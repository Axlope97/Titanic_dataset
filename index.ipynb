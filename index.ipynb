{
 "cells": [
  {
   "cell_type": "code",
   "execution_count": null,
   "metadata": {},
   "outputs": [],
   "source": [
    "import pandas as pd\n",
    "import numpy as np\n",
    "import seaborn as sns\n",
    "import matplotlib.pyplot as plt\n",
    "from collections import Counter\n",
    "import re"
   ]
  },
  {
   "cell_type": "markdown",
   "metadata": {},
   "source": [
    "## EDA"
   ]
  },
  {
   "cell_type": "code",
   "execution_count": null,
   "metadata": {},
   "outputs": [],
   "source": [
    "train = pd.read_csv('c:\\\\Users\\\\Alejandro López\\\\Desktop\\\\titanic\\\\train.csv')\n",
    "test= pd.read_csv('c:\\\\Users\\\\Alejandro López\\\\Desktop\\\\titanic\\\\test.csv')"
   ]
  },
  {
   "cell_type": "code",
   "execution_count": null,
   "metadata": {},
   "outputs": [],
   "source": [
    "train.head(5)"
   ]
  },
  {
   "cell_type": "code",
   "execution_count": null,
   "metadata": {},
   "outputs": [],
   "source": [
    "train.columns"
   ]
  },
  {
   "cell_type": "code",
   "execution_count": null,
   "metadata": {},
   "outputs": [],
   "source": [
    "train.describe()"
   ]
  },
  {
   "cell_type": "code",
   "execution_count": null,
   "metadata": {},
   "outputs": [],
   "source": [
    "train.isnull().sum()"
   ]
  },
  {
   "cell_type": "code",
   "execution_count": null,
   "metadata": {},
   "outputs": [],
   "source": [
    "def barchart(col):\n",
    "    sns.barplot(data=train, x=col, y='Survived',palette='viridis')\n",
    "    plt.title('Barchart Survived by Pclass')\n",
    "    plt.show\n",
    "barchart('Pclass')"
   ]
  },
  {
   "cell_type": "code",
   "execution_count": null,
   "metadata": {},
   "outputs": [],
   "source": [
    "barchart('Sex')"
   ]
  },
  {
   "cell_type": "code",
   "execution_count": null,
   "metadata": {},
   "outputs": [],
   "source": [
    "survived_count = train.groupby(['Sex', 'Survived']).size().unstack()\n",
    "\n",
    "plt.figure(figsize=(6, 6))\n",
    "colors = ['#77DD77', '#ADD8E6'] \n",
    "plt.pie(survived_count[1], labels=survived_count.index, autopct='%1.1f%%', startangle=75, colors=colors)\n",
    "\n",
    "plt.title('Survival Rate by Sex')\n",
    "\n",
    "plt.axis('equal') \n",
    "plt.show()"
   ]
  },
  {
   "cell_type": "code",
   "execution_count": null,
   "metadata": {},
   "outputs": [],
   "source": [
    "def histplot(col):\n",
    "    sns.histplot(data=train, x=col, palette='viridis')\n",
    "    plt.title(f'Density by {col}')\n",
    "    plt.show()\n",
    "\n",
    "hist_cols= ['Sex','Pclass','Age', 'SibSp', 'Parch', 'Fare', 'Embarked']\n",
    "for col in hist_cols:\n",
    "    histplot(col)"
   ]
  },
  {
   "cell_type": "code",
   "execution_count": null,
   "metadata": {},
   "outputs": [],
   "source": [
    "#heatmap\n",
    "list_cols= [\"SibSp\", \"Parch\", \"Age\", \"Fare\", \"Survived\"]\n",
    "sns.heatmap(data=train[list_cols].corr(),annot = True, fmt = \".2f\")\n",
    "plt.show()"
   ]
  },
  {
   "cell_type": "code",
   "execution_count": null,
   "metadata": {},
   "outputs": [],
   "source": [
    "# Age\n",
    "\n",
    "age_mean=train['Age'].mean()\n",
    "age_median=train['Age'].median()\n",
    "age_mean_survived=train.loc[train.Survived == 1]['Age'].mean()\n",
    "age_mean_not_surv=train.loc[train.Survived == 0]['Age'].mean()\n",
    "\n",
    "print('Age mean', age_mean)\n",
    "print('Age median',age_median)\n",
    "print('Age mean survived',age_mean_survived)\n",
    "print('Age mean not survived',age_mean_not_surv)"
   ]
  },
  {
   "cell_type": "code",
   "execution_count": null,
   "metadata": {},
   "outputs": [],
   "source": [
    "# Fare\n",
    "\n",
    "fare_mean=train['Fare'].mean()\n",
    "fare_median= train['Fare'].median()\n",
    "fare_mean_survived=train.loc[train.Survived == 1]['Fare'].median()\n",
    "fare_mean_NotSurvived=train.loc[train.Survived == 0]['Fare'].median()\n",
    "\n",
    "print('Fare mean',fare_mean)\n",
    "print('Fare median', fare_median)\n",
    "print('Fare median survived',fare_mean_survived)\n",
    "print('Fare median Not Survived',fare_mean_NotSurvived)"
   ]
  },
  {
   "cell_type": "code",
   "execution_count": null,
   "metadata": {},
   "outputs": [],
   "source": [
    "# Embarked\n",
    "Embarked = train.value_counts('Embarked')\n",
    "Embarked_survived=train.loc[train.Survived == 1].value_counts('Embarked')\n",
    "Embarked_NotSurvived=train.loc[train.Survived == 0].value_counts('Embarked')\n",
    "Embarked_percent_survived=train.loc[train.Survived == 1].value_counts('Embarked')/train.value_counts('Embarked')\n",
    "Embarked_percent_NotSurvived=train.loc[train.Survived == 0].value_counts('Embarked')/train.value_counts('Embarked')\n",
    "\n",
    "print('Embarked',Embarked)\n",
    "print('Embarked Survived', Embarked_survived)\n",
    "print('Embarked_NotSurvived',Embarked_NotSurvived)\n",
    "print('Embarked_percent_survived', Embarked_percent_survived)\n",
    "print('Embarked_percent_NotSurvived',Embarked_percent_NotSurvived)"
   ]
  }
 ],
 "metadata": {
  "language_info": {
   "name": "python"
  }
 },
 "nbformat": 4,
 "nbformat_minor": 2
}
